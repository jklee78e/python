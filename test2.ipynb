{
 "metadata": {
  "language_info": {
   "codemirror_mode": {
    "name": "ipython",
    "version": 3
   },
   "file_extension": ".py",
   "mimetype": "text/x-python",
   "name": "python",
   "nbconvert_exporter": "python",
   "pygments_lexer": "ipython3",
   "version": "3.8.7-final"
  },
  "orig_nbformat": 2,
  "kernelspec": {
   "name": "python3",
   "display_name": "Python 3.8.7 64-bit",
   "metadata": {
    "interpreter": {
     "hash": "02a25f0e9d930c12e401f058b0c3d30b0a234f3f7a4eacce8ddfd02575a49675"
    }
   }
  }
 },
 "nbformat": 4,
 "nbformat_minor": 2,
 "cells": [
  {
   "cell_type": "code",
   "execution_count": 11,
   "metadata": {},
   "outputs": [],
   "source": [
    "### 필요한 라이브러리 불러오기\n",
    "import OpenDartReader\n",
    "import numpy as np    \n",
    "import pandas as pd\n",
    "import warnings\n",
    "warnings.simplefilter(action='ignore', category=FutureWarning)\n",
    "\n",
    "\n",
    "api_key = '39849de683995a798ae30f7ceecf0bc4a7c923bf'\n",
    "dart = OpenDartReader(api_key) \n",
    "\n",
    "### Dictionary\n",
    "df_info = {}\n",
    "\n",
    "#for year in range(From, To+1) : \n",
    "\n",
    "year = 2018\n",
    "company = '005930'\n",
    "\n",
    "### 재무제표\n",
    "fs = dart.finstate_all(company, year, reprt_code='11011', fs_div='CFS') # 재무제표(전체)\n",
    "\n",
    "IS = fs[fs['sj_div'].str.contains('IS')] # 재무제표(전체) > 손익계산서\n",
    "Revenue = IS[IS['account_id'].str.contains('ifrs_Revenue')] # 재무제표(전체) > 손익계산서 > 매출액\n",
    "CostOfSales = IS[IS['account_id'].str.contains('ifrs_CostOfSales')] # 재무제표(전체) > 손익계산서 > 매출원가\n",
    "GrossProfit = IS[IS['account_id'].str.contains('ifrs_GrossProfit')] # 재무제표(전체) > 손익계산서 > 메츨총이익\n",
    "TotalSellingGeneralAdministrativeExpenses = IS[IS['account_id'].str.contains('dart_TotalSellingGeneralAdministrativeExpenses')] # 재무제표(전체) > 손익계산서 > 판매비와 관리비\n",
    "OperatingIncomeLoss = IS[IS['account_id'].str.contains('dart_OperatingIncomeLoss')] # 재무제표(전체) > 손익계산서 > 영업이익(손실)\n",
    "OtherGains = IS[IS['account_id'].str.contains('dart_OtherGains')] # 재무제표(전체) > 손익계산서 > 기타수익\n",
    "OtherLosses = IS[IS['account_id'].str.contains('dart_OtherLosses')] # 재무제표(전체) > 손익계산서 > 기타비용\n",
    "#\n",
    "FinanceIncome = IS[IS['account_id'].str.contains('ifrs_FinanceIncome')] # 재무제표(전체) > 손익계산서 > 금융수익\n",
    "#\n",
    "ProfitLossBeforeTax = IS[IS['account_id'].str.contains('ifrs_ProfitLossBeforeTax')] # 재무제표(전체) > 손익계산서 > 법인세비용차감전순이익\n",
    "IncomeTaxExpenseContinuingOperations = IS[IS['account_id'].str.contains('ifrs_IncomeTaxExpenseContinuingOperations')] # 재무제표(전체) > 손익계산서 > 법인세비용\n",
    "ProfitLossFromContinuingOperations = IS[IS['account_id'].str.contains('ifrs_ProfitLossFromContinuingOperations')] # 재무제표(전체) > 손익계산서 > 계속영업이익(손실)\n",
    "ProfitLoss = IS[IS['account_id'].str.contains('ifrs_ProfitLoss')] # 재무제표(전체) > 손익계산서 > 당기순이익\n",
    "ProfitLossAttributableToOwnersOfParent = IS[IS['account_id'].str.contains('ifrs_ProfitLossAttributableToOwnersOfParent')] # 재무제표(전체) > 손익계산서 > 지배기업소유주 귀속 당기순이익\n",
    "ProfitLossAttributableToNoncontrollingInterests = IS[IS['account_id'].str.contains('ifrs_ProfitLossAttributableToNoncontrollingInterests')] # 재무제표(전체) > 손익계산서 > 비지배지분 귀속 당기순이익\n",
    "BasicEarningsLossPershare = IS[IS['account_id'].str.contains('ifrs_BasicEarningsLossPerShare')] # 재무제표(전체) > 손익계산서 > 기본주당이익\n",
    "DilutedEarningsLossPershare = IS[IS['account_id'].str.contains('ifrs_DilutedEarningsLossPerShare')] # 재무제표(전체) > 손익계산서 > 희석주당이익\n",
    "\n",
    "OtherGains = IS[IS['account_id'].str.contains('')] # 재무제표(전체) > 손익계산서 > \n",
    "OtherGains = IS[IS['account_id'].str.contains('')] # 재무제표(전체) > 손익계산서 > \n",
    "OtherGains = IS[IS['account_id'].str.contains('')] # 재무제표(전체) > 손익계산서 > \n",
    "OtherGains = IS[IS['account_id'].str.contains('')] # 재무제표(전체) > 손익계산서 > \n",
    "OtherGains = IS[IS['account_id'].str.contains('')] # 재무제표(전체) > 손익계산서 > \n",
    "profit = fs_is[fs_is['account_id'].str.contains('')] # 재무제표(전체) > 손익계산서 > \n",
    "profit = fs_is[fs_is['account_id'].str.contains('')] # 재무제표(전체) > 손익계산서 > \n",
    "profit = fs_is[fs_is['account_id'].str.contains('')] # 재무제표(전체) > 손익계산서 > \n",
    "profit = fs_is[fs_is['account_id'].str.contains('')] # 재무제표(전체) > 손익계산서 > \n",
    "profit = fs_is[fs_is['account_id'].str.contains('')] # 재무제표(전체) > 손익계산서 > \n",
    "profit = fs_is[fs_is['account_id'].str.contains('')] # 재무제표(전체) > 손익계산서 > \n",
    "profit = fs_is[fs_is['account_id'].str.contains('')] # 재무제표(전체) > 손익계산서 > \n",
    "profit = fs_is[fs_is['account_id'].str.contains('')] # 재무제표(전체) > 손익계산서 > \n",
    "profit = fs_is[fs_is['account_id'].str.contains('')] # 재무제표(전체) > 손익계산서 > \n",
    "profit = fs_is[fs_is['account_id'].str.contains('')] # 재무제표(전체) > 손익계산서 > \n",
    "profit = fs_is[fs_is['account_id'].str.contains('')] # 재무제표(전체) > 손익계산서 > \n",
    "profit = fs_is[fs_is['account_id'].str.contains('')] # 재무제표(전체) > 손익계산서 > \n",
    "profit = fs_is[fs_is['account_id'].str.contains('')] # 재무제표(전체) > 손익계산서 > \n",
    "profit = fs_is[fs_is['account_id'].str.contains('')] # 재무제표(전체) > 손익계산서 > \n",
    "profit = fs_is[fs_is['account_id'].str.contains('')] # 재무제표(전체) > 손익계산서 > \n",
    "profit = fs_is[fs_is['account_id'].str.contains('')] # 재무제표(전체) > 손익계산서 > \n",
    "profit = fs_is[fs_is['account_id'].str.contains('')] # 재무제표(전체) > 손익계산서 > \n",
    "\n",
    "CIS = fs[fs['sj_div'].str.contains('CIS')] # 재무제표(전체) > 포괄손익계산서\n",
    "BS = fs[fs['sj_div'].str.contains('BS')] # 재무제표(전체) > 재무제표\n",
    "CF = fs_all[fs_all['sj_div'].str.contains('CF')] # 재무제표(전체) > 현금흐름표\n",
    "\n",
    "fs_equity = fs_bs[fs_bs['account_nm'].str.contains('자본총계')] # 재무제표(전체) > 재무제표 > 자본총계\n",
    "fs_assets = fs_bs[fs_bs['account_nm'].str.contains('자산총계')] # 재무제표(전체) > 재무제표 > 자산총계\n",
    "fs_revenue = fs_is[fs_is['account_nm'].str.contains('매출액')] # 재무제표(전체) > 손익계산서 > 매출액\n",
    "fs_income = fs_is[fs_is['account_nm'].str.contains('영업이익')] # 재무제표(전체) > 손익계산서 > 영업이익\n",
    "fs_profit = fs_is[fs_is['account_nm'].str.contains('당기순이익')] # 재무제표(전체) > 손익계산서 > 당기순이익\n",
    "\n",
    "### 재무제표 전체(재무상태표, 손익계산서, 자본변동표, 현금흐름표 등)\n",
    "fs_all = dart.finstate_all(company, year) # 재무제표(전체)\n",
    "\n",
    "fs_OCF = fs_cf[fs_cf['account_id'].str.contains('CashFlowsFromUsedInOperatingActivities')] # 재무제표(전체) > 현금흐름표 > 영업활동현금흐름\n",
    "fs_aucqusition = fs_cf[fs_cf['account_nm'].str.contains('취득')] # 재무제표(전체) > 현금흐름표 >  '취득'\n",
    "fs_CAPEX_P = fs_aucqusition[fs_aucqusition['account_nm'].str.contains('유형자산')] # 재무제표(전체) > 현금흐름표 >  유형자산의취득\n",
    "fs_CAPEX_I = fs_aucqusition[fs_aucqusition['account_nm'].str.contains('무형자산')] # 재무제표(전체) > 현금흐름표 >  무형자산의취득\n",
    "\n",
    "### 배당에 관한 사항\n",
    "dv = dart.report(company, '배당', year) # 배당에 관한 사항\n",
    "dv_dps = dv[ dv['se'] == '주당 현금배당금(원)' ] # 배당에 관한 사항 > 주당 배당금\n",
    "dv_eps = dv[ dv['se'].str.contains('주당순이익') ] # 배당에 관한 사항 > 주당 순이익\n",
    "dv_yield = dv[ dv['se'].str.contains('현금배당수익률') ] # 배당에 관한 사항 > 배당수익률\n",
    "dv_TD = dv[ dv['se'].str.contains('현금배당금총액') ] # 배당에 관한 사항 > 배당금 총액\n",
    "\n",
    "\n",
    "\n"
   ]
  },
  {
   "cell_type": "code",
   "execution_count": 12,
   "metadata": {},
   "outputs": [],
   "source": [
    "미수금 = 1"
   ]
  },
  {
   "cell_type": "code",
   "execution_count": 14,
   "metadata": {},
   "outputs": [
    {
     "output_type": "stream",
     "name": "stdout",
     "text": [
      "1\n"
     ]
    }
   ],
   "source": [
    "print(미수금)"
   ]
  },
  {
   "cell_type": "code",
   "execution_count": 17,
   "metadata": {},
   "outputs": [],
   "source": [
    "ddf=fs[[\"sj_nm\",\"account_id\",\"account_nm\"]]"
   ]
  },
  {
   "cell_type": "code",
   "execution_count": 18,
   "metadata": {},
   "outputs": [
    {
     "output_type": "error",
     "ename": "SyntaxError",
     "evalue": "invalid syntax (<ipython-input-18-e8c526911aa3>, line 2)",
     "traceback": [
      "\u001b[1;36m  File \u001b[1;32m\"<ipython-input-18-e8c526911aa3>\"\u001b[1;36m, line \u001b[1;32m2\u001b[0m\n\u001b[1;33m    현금및현금성자산  = BS[BS['account_id'].str.contains('ifrs_CashAndCashEquivalents') # 현금및현금성자산\u001b[0m\n\u001b[1;37m    ^\u001b[0m\n\u001b[1;31mSyntaxError\u001b[0m\u001b[1;31m:\u001b[0m invalid syntax\n"
     ]
    }
   ],
   "source": [
    "유동자산  = BS[BS['account_id'].str.contains('ifrs_CurrentAssets') # 유동자산\n",
    "현금및현금성자산  = BS[BS['account_id'].str.contains('ifrs_CashAndCashEquivalents') # 현금및현금성자산\n",
    "단기금융상품  = BS[BS['account_id'].str.contains('dart_ShortTermDepositsNotClassifiedAsCashEquivalents') # 단기금융상품\n",
    "단기매도가능금융자산  = BS[BS['account_id'].str.contains('') #-표준계정코드 미사용- 단기매도가능금융자산\n",
    "단기상각후원가금융자산  = BS[BS['account_id'].str.contains('') #-표준계정코드 미사용- 단기상각후원가금융자산\n",
    "단기당기손익 = BS[BS['account_id'].str.contains('') #-공정가치금융자산 -표준계정코드 미사용- 단기당기손익-공정가치금융자산\n",
    "매출채권  = BS[BS['account_id'].str.contains('dart_ShortTermTradeReceivable') # 매출채권\n",
    "미수금  = BS[BS['account_id'].str.contains('') #-표준계정코드 미사용- 미수금\n",
    "선급금  = BS[BS['account_id'].str.contains('') #-표준계정코드 미사용- 선급금\n",
    "선급비용  = BS[BS['account_id'].str.contains('') #-표준계정코드 미사용- 선급비용\n",
    "재고자산  = BS[BS['account_id'].str.contains('ifrs_Inventories') # 재고자산\n",
    "기타유동자산  = BS[BS['account_id'].str.contains('dart_OtherCurrentAssets') # 기타유동자산\n",
    "매각예정분류자산  = BS[BS['account_id'].str.contains('ifrs_NoncurrentAssetsOrDisposalGroupsClassifiedAsHeldForSaleOrAsHeldForDistributionToOwners') # 매각예정분류자산\n",
    "비유동자산  = BS[BS['account_id'].str.contains('ifrs_NoncurrentAssets') # 비유동자산\n",
    "장기매도가능금융자산  = BS[BS['account_id'].str.contains('dart_LongTermDepositsNotClassifiedAsCashEquivalents') # 장기매도가능금융자산\n",
    "만기보유금융자산  = BS[BS['account_id'].str.contains('') #-표준계정코드 미사용- 만기보유금융자산\n",
    "상각후원가금융자산  = BS[BS['account_id'].str.contains('') #-표준계정코드 미사용- 상각후원가금융자산\n",
    "공정가치금융자산  = BS[BS['account_id'].str.contains('') #-표준계정코드 미사용- 기타포괄손익-공정가치금융자산\n",
    "공정가치금융자산  = BS[BS['account_id'].str.contains('') #-표준계정코드 미사용- 당기손익-공정가치금융자산\n",
    "투자  = BS[BS['account_id'].str.contains('') #-표준계정코드 미사용- 관계기업 및 공동기업 투자\n",
    "유형자산  = BS[BS['account_id'].str.contains('ifrs_PropertyPlantAndEquipment') # 유형자산\n",
    "무형자산  = BS[BS['account_id'].str.contains('ifrs_InvestmentProperty') # 무형자산\n",
    "장기선급비용  = BS[BS['account_id'].str.contains('dart_LongTermPrepaidExpenses') # 장기선급비용\n",
    "순확정급여자산  = BS[BS['account_id'].str.contains('dart_DepositsForSeveranceInsurance') # 순확정급여자산\n",
    "이연법인세자산  = BS[BS['account_id'].str.contains('ifrs_DeferredTaxAssets') # 이연법인세자산\n",
    "기타비유동자산  = BS[BS['account_id'].str.contains('dart_OtherNonCurrentAssets') # 기타비유동자산\n",
    "자산총계  = BS[BS['account_id'].str.contains('ifrs_Assets') # 자산총계\n",
    "유동부채  = BS[BS['account_id'].str.contains('ifrs_CurrentLiabilities') # 유동부채\n",
    "매입채무  = BS[BS['account_id'].str.contains('') #-표준계정코드 미사용- 매입채무\n",
    "단기차입금  = BS[BS['account_id'].str.contains('ifrs_ShorttermBorrowings') # 단기차입금\n",
    "미지급금  = BS[BS['account_id'].str.contains('') #-표준계정코드 미사용- 미지급금\n",
    "선수금  = BS[BS['account_id'].str.contains('') #-표준계정코드 미사용- 선수금\n",
    "예수금  = BS[BS['account_id'].str.contains('') #-표준계정코드 미사용- 예수금\n",
    "미지급비용  = BS[BS['account_id'].str.contains('') #-표준계정코드 미사용- 미지급비용\n",
    "미지급법인세  = BS[BS['account_id'].str.contains('dart_PaymentsOfIncomeTaxesPayable') # 미지급법인세\n",
    "유동성장기부채  = BS[BS['account_id'].str.contains('') #-표준계정코드 미사용- 유동성장기부채\n",
    "충당부채  = BS[BS['account_id'].str.contains('ifrs_CurrentProvisions') # 충당부채\n",
    "기타유동부채  = BS[BS['account_id'].str.contains('dart_OtherCurrentLiabilities') # 기타유동부채\n",
    "매각예정분류부채  = BS[BS['account_id'].str.contains('ifrs_LiabilitiesIncludedInDisposalGroupsClassifiedAsHeldForSale') # 매각예정분류부채\n",
    "비유동부채  = BS[BS['account_id'].str.contains('ifrs_NoncurrentLiabilities') # 비유동부채\n",
    "사채  = BS[BS['account_id'].str.contains('dart_BondsIssued') # 사채\n",
    "장기차입금  = BS[BS['account_id'].str.contains('dart_LongTermBorrowingsGross') # 장기차입금\n",
    "장기미지급금  = BS[BS['account_id'].str.contains('dart_LongTermOtherPayablesGross') # 장기미지급금\n",
    "순확정급여부채  = BS[BS['account_id'].str.contains('dart_PostemploymentBenefitObligations') # 순확정급여부채\n",
    "이연법인세부채  = BS[BS['account_id'].str.contains('ifrs_DeferredTaxLiabilities') # 이연법인세부채\n",
    "장기충당부채  = BS[BS['account_id'].str.contains('dart_LongTermTradeAndOtherNonCurrentPayables') # 장기충당부채\n",
    "기타비유동부채  = BS[BS['account_id'].str.contains('dart_OtherNonCurrentLiabilities') # 기타비유동부채\n",
    "부채총계  = BS[BS['account_id'].str.contains('ifrs_Liabilities') # 부채총계\n",
    "소유주지분  = BS[BS['account_id'].str.contains('ifrs_EquityAttributableToOwnersOfParent') # 지배기업 소유주지분\n",
    "자본금  = BS[BS['account_id'].str.contains('ifrs_IssuedCapital') # 자본금\n",
    "우선주자본금  = BS[BS['account_id'].str.contains('dart_IssuedCapitalOfPreferredStock') # 우선주자본금\n",
    "보통주자본금  = BS[BS['account_id'].str.contains('dart_IssuedCapitalOfCommonStock') # 보통주자본금\n",
    "주식발행초과금  = BS[BS['account_id'].str.contains('ifrs_SharePremium') # 주식발행초과금\n",
    "이익잉여금  = BS[BS['account_id'].str.contains('ifrs_RetainedEarnings') # 이익잉여금\n",
    "이익잉여금  = BS[BS['account_id'].str.contains('ifrs_RetainedEarnings') # 이익잉여금\n",
    "보통주자본금  = BS[BS['account_id'].str.contains('dart_IssuedCapitalOfCommonStock') # 보통주자본금\n",
    "주식발행초과금  = BS[BS['account_id'].str.contains('ifrs_SharePremium') # 주식발행초과금\n",
    "기타자본항목  = BS[BS['account_id'].str.contains('dart_ElementsOfOtherStockholdersEquity') # 기타자본항목\n",
    "매각예정분류기타자본항목  = BS[BS['account_id'].str.contains('dart_OtherComprehensiveIncomeLossAccumulatedAmount') # 매각예정분류기타자본항목\n",
    "비지배지분  = BS[BS['account_id'].str.contains('ifrs_NoncontrollingInterests') # 비지배지분\n",
    "자본총계  = BS[BS['account_id'].str.contains('ifrs_Equity') # 자본총계\n",
    "자본과부채총계  = BS[BS['account_id'].str.contains('ifrs_EquityAndLiabilities') # 자본과부채총계"
   ]
  },
  {
   "cell_type": "code",
   "execution_count": null,
   "metadata": {},
   "outputs": [],
   "source": []
  }
 ]
}